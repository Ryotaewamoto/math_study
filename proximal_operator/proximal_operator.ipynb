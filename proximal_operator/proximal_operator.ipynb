{
 "cells": [
  {
   "cell_type": "code",
   "execution_count": 2,
   "metadata": {},
   "outputs": [],
   "source": [
    "import numpy as np\n",
    "from pyproximal import L1\n",
    "\n",
    "l1 = L1(sigma=1.)\n",
    "x = np.arange(-5, 5, 0.1)\n",
    "xp = l1.prox(x, 1)"
   ]
  },
  {
   "cell_type": "code",
   "execution_count": 4,
   "metadata": {},
   "outputs": [],
   "source": [
    "import numpy as np\n",
    "from pylops import FirstDerivative\n",
    "from pyproximal import L1, L2\n",
    "from pyproximal.optimization.primal import LinearizedADMM\n",
    "\n",
    "np.random.seed(1)\n",
    "\n",
    "# Create noisy data\n",
    "nx = 101\n",
    "x = np.zeros(nx)\n",
    "x[:nx//2] = 10\n",
    "x[nx//2:3*nx//4] = -5\n",
    "n = np.random.normal(0, 2, nx)\n",
    "y = x + n\n",
    "\n",
    "# Define functionals\n",
    "l2 = L2(b=y)\n",
    "l1 = L1(sigma=5.)\n",
    "Dop = FirstDerivative(nx, edge=True, kind='backward')\n",
    "\n",
    "# Solve functional with L-ADMM\n",
    "L = np.real((Dop.H * Dop).eigs(neigs=1, which='LM')[0])\n",
    "tau = 1.\n",
    "mu = 0.99 * tau / L\n",
    "xladmm, _ = LinearizedADMM(l2, l1, Dop, tau=tau, mu=mu,\n",
    "                           x0=np.zeros_like(x), niter=200)"
   ]
  }
 ],
 "metadata": {
  "kernelspec": {
   "display_name": "base",
   "language": "python",
   "name": "python3"
  },
  "language_info": {
   "codemirror_mode": {
    "name": "ipython",
    "version": 3
   },
   "file_extension": ".py",
   "mimetype": "text/x-python",
   "name": "python",
   "nbconvert_exporter": "python",
   "pygments_lexer": "ipython3",
   "version": "3.12.4"
  }
 },
 "nbformat": 4,
 "nbformat_minor": 2
}
